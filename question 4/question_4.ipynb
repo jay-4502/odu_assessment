{
  "nbformat": 4,
  "nbformat_minor": 0,
  "metadata": {
    "colab": {
      "provenance": [],
      "authorship_tag": "ABX9TyMswEi7+wianQxhKjBhvAUM",
      "include_colab_link": true
    },
    "kernelspec": {
      "name": "python3",
      "display_name": "Python 3"
    },
    "language_info": {
      "name": "python"
    }
  },
  "cells": [
    {
      "cell_type": "markdown",
      "metadata": {
        "id": "view-in-github",
        "colab_type": "text"
      },
      "source": [
        "<a href=\"https://colab.research.google.com/github/jay-4502/odu_assessment/blob/main/question%204/question_4.ipynb\" target=\"_parent\"><img src=\"https://colab.research.google.com/assets/colab-badge.svg\" alt=\"Open In Colab\"/></a>"
      ]
    },
    {
      "cell_type": "code",
      "execution_count": 15,
      "metadata": {
        "colab": {
          "base_uri": "https://localhost:8080/"
        },
        "id": "KZkAj_rLAbSQ",
        "outputId": "d87849f8-1f0a-44d2-f08f-e8c28ad6a42d"
      },
      "outputs": [
        {
          "output_type": "stream",
          "name": "stdout",
          "text": [
            "enter string: aabdebcec\n",
            "longest string: 3\n"
          ]
        }
      ],
      "source": [
        "# longest repeating subseqeunce\n",
        "def longest(s1,s2,n,m):\n",
        "    a=[[0 for i in range(n+1)]for j in range(m+1)]\n",
        "    for i in range(n):\n",
        "        for j in range(m):\n",
        "            if(i==0 or j==0):\n",
        "                a[i][j]=0\n",
        "            elif (s1[i-1]==s2[j-1] and i!=j):\n",
        "                a[i][j]=1+a[i-1][j-1]\n",
        "            else:\n",
        "                a[i][j]=max(a[i-1][j],a[i][j-1])\n",
        "    return a[i][j]\n",
        "           \n",
        "\n",
        "if __name__==\"__main__\":\n",
        "    str=input(\"enter string: \")\n",
        "    l=len(str)\n",
        "    print(\"longest string:\",longest(str,str,l,l))"
      ]
    },
    {
      "cell_type": "markdown",
      "source": [
        "#algorithm\n",
        "1. Take an input string and initailize it to str.\n",
        "2. find the length of the string and initialize it to a variable l.\n",
        "3. take \"a\" as a two dimensional array with the elements as 0.\n",
        "4. if the indexes are same then fill the value od that respective table as 0.\n",
        "5. When the indexes are different fill the table with the opration in elif statement.\n",
        "6. If both step 4 and 5 doesn;t not satisfy then find the max of the coressponding left and above elements in the 2D array and fill the table value.\n",
        "7. Print the last element after reading and finishing all the steps in order as in output value."
      ],
      "metadata": {
        "id": "qkqcVTDboqiF"
      }
    }
  ]
}