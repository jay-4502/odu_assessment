{
  "nbformat": 4,
  "nbformat_minor": 0,
  "metadata": {
    "colab": {
      "provenance": []
    },
    "kernelspec": {
      "name": "python3",
      "display_name": "Python 3"
    },
    "language_info": {
      "name": "python"
    }
  },
  "cells": [
    {
      "cell_type": "code",
      "execution_count": null,
      "metadata": {
        "colab": {
          "base_uri": "https://localhost:8080/"
        },
        "id": "KZkAj_rLAbSQ",
        "outputId": "0b14b85f-e5aa-4433-d5cd-6099a58407e9"
      },
      "outputs": [
        {
          "output_type": "stream",
          "name": "stdout",
          "text": [
            "enter string: aabb\n",
            "longest string: 1\n"
          ]
        }
      ],
      "source": [
        "# longest repeating subseqeunce\n",
        "def longest(s1,s2,n,m):\n",
        "    a=[[0 for i in range(n+1)]for j in range(m+1)]\n",
        "    for i in range(n):\n",
        "        for j in range(m):\n",
        "            if(i==0 or j==0):\n",
        "                a[i][j]=0\n",
        "            elif (s1[i-1]==s2[j-1] and i!=j):\n",
        "                a[i][j]=1+a[i-1][j-1]\n",
        "            else:\n",
        "                a[i][j]=max(a[i-1][j],a[i][j-1])\n",
        "    return a[i][j]\n",
        "           \n",
        "\n",
        "if __name__==\"__main__\":\n",
        "    str=input(\"enter string: \")\n",
        "    l=len(str)\n",
        "    print(\"longest string:\",longest(str,str,l,l))"
      ]
    }
  ]
}