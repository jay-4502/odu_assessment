{
  "nbformat": 4,
  "nbformat_minor": 0,
  "metadata": {
    "colab": {
      "provenance": [],
      "authorship_tag": "ABX9TyMUdWOQcOFdMQizG3KzIG1T",
      "include_colab_link": true
    },
    "kernelspec": {
      "name": "python3",
      "display_name": "Python 3"
    },
    "language_info": {
      "name": "python"
    }
  },
  "cells": [
    {
      "cell_type": "markdown",
      "metadata": {
        "id": "view-in-github",
        "colab_type": "text"
      },
      "source": [
        "<a href=\"https://colab.research.google.com/github/jay-4502/odu_assessment/blob/main/question%204/question_4.ipynb\" target=\"_parent\"><img src=\"https://colab.research.google.com/assets/colab-badge.svg\" alt=\"Open In Colab\"/></a>"
      ]
    },
    {
      "cell_type": "code",
      "execution_count": null,
      "metadata": {
        "colab": {
          "base_uri": "https://localhost:8080/"
        },
        "id": "KZkAj_rLAbSQ",
        "outputId": "0b14b85f-e5aa-4433-d5cd-6099a58407e9"
      },
      "outputs": [
        {
          "output_type": "stream",
          "name": "stdout",
          "text": [
            "enter string: aabb\n",
            "longest string: 1\n"
          ]
        }
      ],
      "source": [
        "# longest repeating subseqeunce\n",
        "def longest(s1,s2,n,m):\n",
        "    a=[[0 for i in range(n+1)]for j in range(m+1)]\n",
        "    for i in range(n):\n",
        "        for j in range(m):\n",
        "            if(i==0 or j==0):\n",
        "                a[i][j]=0\n",
        "            elif (s1[i-1]==s2[j-1] and i!=j):\n",
        "                a[i][j]=1+a[i-1][j-1]\n",
        "            else:\n",
        "                a[i][j]=max(a[i-1][j],a[i][j-1])\n",
        "    return a[i][j]\n",
        "           \n",
        "\n",
        "if __name__==\"__main__\":\n",
        "    str=input(\"enter string: \")\n",
        "    l=len(str)\n",
        "    print(\"longest string:\",longest(str,str,l,l))"
      ]
    }
  ]
}